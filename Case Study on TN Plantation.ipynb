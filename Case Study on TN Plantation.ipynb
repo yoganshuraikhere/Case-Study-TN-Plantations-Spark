{
 "cells": [
  {
   "cell_type": "code",
   "execution_count": 0,
   "metadata": {
    "application/vnd.databricks.v1+cell": {
     "cellMetadata": {},
     "inputWidgets": {},
     "nuid": "69d1115a-f272-4740-860a-2318f02bcb8a",
     "showTitle": false,
     "tableResultSettingsMap": {},
     "title": ""
    }
   },
   "outputs": [],
   "source": [
    "###########################  Module Import  #####################################\n",
    "from pyspark.sql.functions import *\n",
    "from pyspark.sql import SparkSession, functions as F\n",
    "from pyspark.sql.functions import regexp_replace, col\n",
    "from pyspark.sql.types import StructType, StructField, IntegerType, StringType, FloatType\n",
    "spark = SparkSession.builder.appName('Pyspark_Project').getOrCreate()"
   ]
  },
  {
   "cell_type": "code",
   "execution_count": 0,
   "metadata": {
    "application/vnd.databricks.v1+cell": {
     "cellMetadata": {},
     "inputWidgets": {},
     "nuid": "03b8e3f3-389b-44fa-a9d2-90d0c6f6cb4c",
     "showTitle": false,
     "tableResultSettingsMap": {},
     "title": ""
    }
   },
   "outputs": [
    {
     "output_type": "stream",
     "name": "stdout",
     "output_type": "stream",
     "text": [
      "root\n |-- Serial_Number: integer (nullable = true)\n |-- District: string (nullable = true)\n |-- Area: string (nullable = true)\n |-- Production: integer (nullable = true)\n |-- Productivity: double (nullable = true)\n |-- Plantation Type: string (nullable = false)\n\n+-------------+--------------+----+----------+------------------+---------------+\n|Serial_Number|      District|Area|Production|      Productivity|Plantation Type|\n+-------------+--------------+----+----------+------------------+---------------+\n|            1|      Ariyalur| 112|      2258|20.160714285714285|         Bamboo|\n|            2|    Coimbatore|   9|       181| 20.11111111111111|         Bamboo|\n|            3|     Cuddalore| 142|      2863|20.161971830985916|         Bamboo|\n|            4|    Dharmapuri|  11|       222|20.181818181818183|         Bamboo|\n|            5|      Dindigul|  19|       383|20.157894736842106|         Bamboo|\n|            6|         Erode| 121|      2439| 20.15702479338843|         Bamboo|\n|            7|  Kancheepuram|  67|      1351| 20.16417910447761|         Bamboo|\n|            8|   Kanyakumari|   2|        40|              20.0|         Bamboo|\n|            9|         Karur|   4|        81|             20.25|         Bamboo|\n|           10|   Krishnagiri|   4|        81|             20.25|         Bamboo|\n|           11|       Madurai|   4|        81|             20.25|         Bamboo|\n|           12|  Nagapattinam| 340|      6854|20.158823529411766|         Bamboo|\n|           13|      Namakkal|   9|       181| 20.11111111111111|         Bamboo|\n|           14|    Perambalur|  21|       423|20.142857142857142|         Bamboo|\n|           15|   Pudukkottai|   3|        60|              20.0|         Bamboo|\n|           16|Ramanadhapuram|    |      null|              null|         Bamboo|\n|           17|         Salem|  52|      1048|20.153846153846153|         Bamboo|\n|           18|    Sivagangai|   3|        60|              20.0|         Bamboo|\n|           19|     Thanjavur| 102|      2056| 20.15686274509804|         Bamboo|\n|           20|         Theni|  11|       222|20.181818181818183|         Bamboo|\n+-------------+--------------+----+----------+------------------+---------------+\nonly showing top 20 rows\n\n+---------------+\n|max(Production)|\n+---------------+\n|           6854|\n+---------------+\n\n+---------------+\n|min(Production)|\n+---------------+\n|             40|\n+---------------+\n\n+---------+\n|sum(Area)|\n+---------+\n|   1370.0|\n+---------+\n\n"
     ]
    }
   ],
   "source": [
    "##############################  BAMBOO File Format################################################\n",
    "file1_location = '/FileStore/shared_uploads/yoganshu.raikhere2@mindtree.com/BambooPlantation.txt'\n",
    "\n",
    "schema = StructType([\n",
    "    StructField(\"Serial_Number\", IntegerType(), True),\n",
    "    StructField(\"District\", StringType(), True),\n",
    "    StructField(\"Area\", StringType(), True),\n",
    "    StructField(\"Production\", IntegerType(), True),\n",
    "    StructField(\"Productivity\", FloatType(), True),\n",
    "    StructField(\"Plantation Type\", StringType(), True)])\n",
    "\n",
    "bamboo_df = spark.read.option(\"delimiter\",\"|\").csv(file1_location, schema=schema, header=False)\n",
    "\n",
    "bamboo_df = bamboo_df.withColumn(\"District\",regexp_replace(col(\"District\"), \"[^a-zA-Z]*\", \"\"))\n",
    "\n",
    "bamboo_df = bamboo_df.withColumn(\"Area\", regexp_replace(col(\"Area\"), \"[^0-9]\", \"\"))\n",
    "\n",
    "bamboo_df = bamboo_df.withColumn(\"Plantation Type\", lit(\"Bamboo\"))\n",
    "\n",
    "bamboo_df = bamboo_df.withColumn(\"Productivity\", bamboo_df.Production/bamboo_df.Area)\n",
    "\n",
    "bamboo_df.na.fill('0', subset=['Area'])\n",
    "\n",
    "bamboo_df.printSchema()\n",
    "bamboo_df.show()\n",
    "bamboo_df.agg({'Production':'max'}).show()\n",
    "bamboo_df.agg({'Production':'min'}).show()\n",
    "bamboo_df.agg({'Area':'sum'}).show()"
   ]
  },
  {
   "cell_type": "code",
   "execution_count": 0,
   "metadata": {
    "application/vnd.databricks.v1+cell": {
     "cellMetadata": {},
     "inputWidgets": {},
     "nuid": "7f4e1c83-02c6-4edf-b631-a0d7aa1d1993",
     "showTitle": false,
     "tableResultSettingsMap": {},
     "title": ""
    }
   },
   "outputs": [
    {
     "output_type": "stream",
     "name": "stdout",
     "output_type": "stream",
     "text": [
      "root\n |-- Serial_Number: integer (nullable = true)\n |-- District: string (nullable = true)\n |-- Area: integer (nullable = true)\n |-- Production: integer (nullable = true)\n |-- Productivity: double (nullable = true)\n |-- Plantation Type: string (nullable = false)\n\n+-------------+--------------+-----+----------+------------------+---------------+\n|Serial_Number|      District| Area|Production|      Productivity|Plantation Type|\n+-------------+--------------+-----+----------+------------------+---------------+\n|            1|      Ariyalur| null|      null|              null|            Tea|\n|            2|    Coimbatore|    4|         6|               1.5|            Tea|\n|            3|     Cuddalore| null|      null|              null|            Tea|\n|            4|    Dharmapuri| null|      null|              null|            Tea|\n|            5|      Dindigul| null|      null|              null|            Tea|\n|            6|         Erode| null|      null|              null|            Tea|\n|            7|  Kancheepuram| null|      null|              null|            Tea|\n|            8|   Kanyakumari|26810|     30027|1.1199925400969788|            Tea|\n|            9|         Karur| null|      null|              null|            Tea|\n|           10|   Krishnagiri| null|      null|              null|            Tea|\n|           11|       Madurai| null|      null|              null|            Tea|\n|           12|  Nagapattinam| null|      null|              null|            Tea|\n|           13|      Namakkal| null|      null|              null|            Tea|\n|           14|    Perambalur| null|      null|              null|            Tea|\n|           15|   Pudukkottai| null|      null|              null|            Tea|\n|           16|Ramanadhapuram| null|      null|              null|            Tea|\n|           17|         Salem| null|      null|              null|            Tea|\n|           18|    Sivagangai| null|      null|              null|            Tea|\n|           19|     Thanjavur| null|      null|              null|            Tea|\n|           20|         Theni| null|      null|              null|            Tea|\n+-------------+--------------+-----+----------+------------------+---------------+\nonly showing top 20 rows\n\n+---------------+\n|max(Production)|\n+---------------+\n|          30027|\n+---------------+\n\n+---------------+\n|min(Production)|\n+---------------+\n|              6|\n+---------------+\n\n+---------+\n|sum(Area)|\n+---------+\n|    27016|\n+---------+\n\n"
     ]
    }
   ],
   "source": [
    "##############################  TEA File Format################################################\n",
    "file2_location = '/FileStore/shared_uploads/yoganshu.raikhere2@mindtree.com/TeaPlantation.txt'\n",
    "\n",
    "Column = StructType([\\\n",
    "StructField(\"Serial_Number\",StringType(),True),\\\n",
    "StructField(\"District\",StringType(),True),\\\n",
    "StructField(\"Area\",StringType(),True),\\\n",
    "StructField(\"Production\",StringType(),True),\\\n",
    "StructField(\"Productivity\",StringType(),True)\n",
    "])\n",
    "\n",
    "Tea_df=spark.read.csv(file2_location)\n",
    "\n",
    "\n",
    "\n",
    "tea = Tea_df.withColumn(\"Col1\",F.regexp_replace(\"_c0\",\"(.*?\\\\|){5}\",\"$0\\n\"))\n",
    "\n",
    "Tea_DF = tea.withColumn(\"Col_Explode\",F.explode(F.split('Col1','\\|\\n'))).select('Col_Explode')\n",
    "\n",
    "TEA_DF=Tea_DF.select('Col_Explode').rdd.map(lambda x : x[0].split(\"|\"))\n",
    "\n",
    "tea_df = spark.createDataFrame(TEA_DF,Column)\n",
    "\n",
    "tea_df = tea_df.select(col(\"Serial_Number\").cast('int').alias(\"Serial_Number\"),col(\"District\"),col(\"Area\").cast('int').alias(\"Area\"),col(\"Production\").cast('int').alias(\"Production\"),col(\"Productivity\").cast('int').alias(\"Productivity\"))\n",
    "\n",
    "tea_df = tea_df.withColumn(\"Plantation Type\", lit(\"Tea\"))\n",
    "\n",
    "tea_df= tea_df.withColumn(\"Productivity\",tea_df.Production/tea_df.Area)\n",
    "\n",
    "tea_df.printSchema()\n",
    "tea_df.show()\n",
    "tea_df.agg({'Production':'max'}).show()\n",
    "tea_df.agg({'Production':'min'}).show()\n",
    "tea_df.agg({'Area':'sum'}).show()\n"
   ]
  },
  {
   "cell_type": "code",
   "execution_count": 0,
   "metadata": {
    "application/vnd.databricks.v1+cell": {
     "cellMetadata": {},
     "inputWidgets": {},
     "nuid": "53572016-a6ac-4d76-b2b8-1518e9b2ebf8",
     "showTitle": false,
     "tableResultSettingsMap": {},
     "title": ""
    }
   },
   "outputs": [
    {
     "output_type": "stream",
     "name": "stdout",
     "output_type": "stream",
     "text": [
      "root\n |-- Serial_Number: integer (nullable = true)\n |-- District: string (nullable = true)\n |-- Area: string (nullable = true)\n |-- Production: integer (nullable = true)\n |-- Productivity: double (nullable = true)\n |-- Plantation Type: string (nullable = false)\n\n+-------------+--------------+-----+----------+------------------+---------------+\n|Serial_Number|      District| Area|Production|      Productivity|Plantation Type|\n+-------------+--------------+-----+----------+------------------+---------------+\n|            1|      Ariyalur|   NA|      null|              null|         Rubber|\n|            2|    Coimbatore|    4|         6|               1.5|         Rubber|\n|            3|     Cuddalore|   NA|      null|              null|         Rubber|\n|            4|    Dharmapuri|   NA|      null|              null|         Rubber|\n|            5|      Dindigul|   NA|      null|              null|         Rubber|\n|            6|         Erode|   NA|      null|              null|         Rubber|\n|            7|  Kancheepuram|   NA|      null|              null|         Rubber|\n|            8|   Kanyakumari|26810|     30027|1.1199925400969788|         Rubber|\n|            9|         Karur|   NA|      null|              null|         Rubber|\n|           10|   Krishnagiri|   NA|      null|              null|         Rubber|\n|           11|       Madurai|   NA|      null|              null|         Rubber|\n|           12|  Nagapattinam|   NA|      null|              null|         Rubber|\n|           13|      Namakkal|   NA|      null|              null|         Rubber|\n|           14|    Perambalur|   NA|      null|              null|         Rubber|\n|           15|   Pudukkottai|   NA|      null|              null|         Rubber|\n|           16|Ramanadhapuram|   NA|      null|              null|         Rubber|\n|           17|         Salem|   NA|      null|              null|         Rubber|\n|           18|    Sivagangai|   NA|      null|              null|         Rubber|\n|           19|     Thanjavur|   NA|      null|              null|         Rubber|\n|           20|         Theni|   NA|      null|              null|         Rubber|\n+-------------+--------------+-----+----------+------------------+---------------+\nonly showing top 20 rows\n\n+---------------+\n|max(Production)|\n+---------------+\n|          30027|\n+---------------+\n\n+---------------+\n|min(Production)|\n+---------------+\n|              6|\n+---------------+\n\n+---------+\n|sum(Area)|\n+---------+\n|  27016.0|\n+---------+\n\n"
     ]
    }
   ],
   "source": [
    "##########################  Rubber File Format#######################################\n",
    "file3_location = '/FileStore/shared_uploads/yoganshu.raikhere2@mindtree.com/Rubber_plantation.txt'\n",
    "\n",
    "rubber_df = spark.read.option(\"delimiter\",\"|\").csv(file3_location, schema = schema, header=True)\n",
    "\n",
    "rubber_df = rubber_df.withColumn(\"Plantation Type\", lit(\"Rubber\"))\n",
    "\n",
    "rubber_df = rubber_df.withColumn(\"Productivity\", rubber_df.Production/rubber_df.Area)\n",
    "\n",
    "rubber_df.printSchema()\n",
    "rubber_df.show()\n",
    "rubber_df.agg({'Production':'max'}).show()\n",
    "rubber_df.agg({'Production':'min'}).show()\n",
    "rubber_df.agg({'Area':'sum'}).show()\n"
   ]
  },
  {
   "cell_type": "code",
   "execution_count": 0,
   "metadata": {
    "application/vnd.databricks.v1+cell": {
     "cellMetadata": {},
     "inputWidgets": {},
     "nuid": "6e67e287-5fa1-4222-9896-dc42bdfff89b",
     "showTitle": false,
     "tableResultSettingsMap": {},
     "title": ""
    }
   },
   "outputs": [
    {
     "output_type": "stream",
     "name": "stdout",
     "output_type": "stream",
     "text": [
      "+-------------+--------------+----+----------+------------------+---------------+\n|Serial_Number|      District|Area|Production|      Productivity|Plantation Type|\n+-------------+--------------+----+----------+------------------+---------------+\n|            1|      Ariyalur| 112|      2258|20.160714285714285|         Bamboo|\n|            2|    Coimbatore|   9|       181| 20.11111111111111|         Bamboo|\n|            3|     Cuddalore| 142|      2863|20.161971830985916|         Bamboo|\n|            4|    Dharmapuri|  11|       222|20.181818181818183|         Bamboo|\n|            5|      Dindigul|  19|       383|20.157894736842106|         Bamboo|\n|            6|         Erode| 121|      2439| 20.15702479338843|         Bamboo|\n|            7|  Kancheepuram|  67|      1351| 20.16417910447761|         Bamboo|\n|            8|   Kanyakumari|   2|        40|              20.0|         Bamboo|\n|            9|         Karur|   4|        81|             20.25|         Bamboo|\n|           10|   Krishnagiri|   4|        81|             20.25|         Bamboo|\n|           11|       Madurai|   4|        81|             20.25|         Bamboo|\n|           12|  Nagapattinam| 340|      6854|20.158823529411766|         Bamboo|\n|           13|      Namakkal|   9|       181| 20.11111111111111|         Bamboo|\n|           14|    Perambalur|  21|       423|20.142857142857142|         Bamboo|\n|           15|   Pudukkottai|   3|        60|              20.0|         Bamboo|\n|           16|Ramanadhapuram|    |      null|              null|         Bamboo|\n|           17|         Salem|  52|      1048|20.153846153846153|         Bamboo|\n|           18|    Sivagangai|   3|        60|              20.0|         Bamboo|\n|           19|     Thanjavur| 102|      2056| 20.15686274509804|         Bamboo|\n|           20|         Theni|  11|       222|20.181818181818183|         Bamboo|\n+-------------+--------------+----+----------+------------------+---------------+\nonly showing top 20 rows\n\n"
     ]
    }
   ],
   "source": [
    "########################  Union  #####################################################\n",
    "import functools\n",
    "\n",
    "def unionAll(dfs):\n",
    "    return functools.reduce(lambda df1, df2: df1.union(df2.select(df1.columns)), dfs)\n",
    "unioned_df = unionAll([bamboo_df, tea_df, rubber_df])\n",
    "unioned_df.show()"
   ]
  }
 ],
 "metadata": {
  "application/vnd.databricks.v1+notebook": {
   "computePreferences": null,
   "dashboards": [],
   "environmentMetadata": null,
   "language": "python",
   "notebookMetadata": {
    "pythonIndentUnit": 4
   },
   "notebookName": "Case Study on TN Plantation",
   "widgets": {}
  },
  "language_info": {
   "name": "python"
  }
 },
 "nbformat": 4,
 "nbformat_minor": 0
}